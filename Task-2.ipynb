{
 "cells": [
  {
   "cell_type": "code",
   "execution_count": 4,
   "id": "f05aaf86-46c9-4d1b-93fc-319d19e0826b",
   "metadata": {},
   "outputs": [],
   "source": [
    "import numpy as np"
   ]
  },
  {
   "cell_type": "code",
   "execution_count": 26,
   "id": "fa0feb0f-69bd-4561-a177-521a570b5336",
   "metadata": {},
   "outputs": [
    {
     "name": "stdout",
     "output_type": "stream",
     "text": [
      "Maths:max marks:85,min Marks:70\n",
      "Urdu:max marks:75,min Marks:70\n",
      "Sindhi:max marks:95,min Marks:40\n",
      "Chemistry:max marks:90,min Marks:85\n",
      "Physics:max marks:60,min Marks:60\n",
      "student no:1\n",
      "Max marks:90 in subject:Chemistry\n",
      "_________\n",
      "student no:2\n",
      "Max marks:90 in subject:Chemistry\n",
      "_________\n",
      "student no:3\n",
      "Max marks:95 in subject:Sindhi\n",
      "_________\n",
      "student no:4\n",
      "Max marks:85 in subject:Chemistry\n",
      "_________\n",
      "student no:5\n",
      "Max marks:90 in subject:Chemistry\n",
      "_________\n",
      "std-1: Rank:1,Total Marks:395\n",
      "std-2: Rank:2,Total Marks:345\n",
      "std-3: Rank:3,Total Marks:345\n",
      "std-4: Rank:4,Total Marks:345\n",
      "std-5: Rank:5,Total Marks:335\n"
     ]
    }
   ],
   "source": [
    "student_data={\"std-1\":{\"Maths\":85,\"Urdu\":70,\"Sindhi\":40,\"Chemistry\":90,\"Physics\":60},\n",
    "              \"std-2\":{\"Maths\":70,\"Urdu\":75,\"Sindhi\":40,\"Chemistry\":90,\"Physics\":60},\n",
    "              \"std-3\":{\"Maths\":80,\"Urdu\":70,\"Sindhi\":95,\"Chemistry\":90,\"Physics\":60},\n",
    "              \"std-4\":{\"Maths\":80,\"Urdu\":70,\"Sindhi\":50,\"Chemistry\":85,\"Physics\":60},\n",
    "              \"std-5\":{\"Maths\":80,\"Urdu\":75,\"Sindhi\":40,\"Chemistry\":90,\"Physics\":60}}\n",
    "students=list(student_data.keys())\n",
    "subjects=list(next(iter(student_data.values())).keys())\n",
    "marks=np.array([list(s.values())for s in student_data.values()])\n",
    "max_subject=marks.argmax(axis=0)\n",
    "min_subject=marks.argmin(axis=0)\n",
    "max_student=marks.argmax(axis=1)\n",
    "min_student=marks.argmin(axis=1)\n",
    "for i in range(0,len(subjects)):\n",
    "    print(f\"{subjects[i]}:max marks:{marks[max_subject[i],i]},min Marks:{marks[min_subject[i],i]}\")\n",
    "for loc,student in enumerate(marks):\n",
    "    print(f\"student no:{loc+1}\\nMax marks:{student[max_student[loc]]} in subject:{subjects[max_student[loc]]}\")\n",
    "    print(\"_________\")\n",
    "sum_row=np.sum(marks,axis=1)\n",
    "sums=sum_row.argsort()[::-1]\n",
    "for loc,(id) in enumerate(students):\n",
    "    print(f\"{id}: Rank:{loc+1},Total Marks:{sum_row[sums[loc]]}\")\n",
    "    "
   ]
  },
  {
   "cell_type": "code",
   "execution_count": null,
   "id": "0e6fe289-37ab-46d9-9f31-af767ddc7bc3",
   "metadata": {},
   "outputs": [],
   "source": []
  }
 ],
 "metadata": {
  "kernelspec": {
   "display_name": "Python 3 (ipykernel)",
   "language": "python",
   "name": "python3"
  },
  "language_info": {
   "codemirror_mode": {
    "name": "ipython",
    "version": 3
   },
   "file_extension": ".py",
   "mimetype": "text/x-python",
   "name": "python",
   "nbconvert_exporter": "python",
   "pygments_lexer": "ipython3",
   "version": "3.13.3"
  }
 },
 "nbformat": 4,
 "nbformat_minor": 5
}
