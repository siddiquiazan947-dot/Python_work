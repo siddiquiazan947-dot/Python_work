{
 "cells": [
  {
   "cell_type": "code",
   "execution_count": 1,
   "id": "434ea7cc-9c6b-4948-a792-cfe34461e613",
   "metadata": {},
   "outputs": [],
   "source": [
    "import numpy as np"
   ]
  },
  {
   "cell_type": "code",
   "execution_count": 2,
   "id": "9de502ad-bbaa-41aa-8fd0-deb301f74534",
   "metadata": {},
   "outputs": [
    {
     "name": "stdout",
     "output_type": "stream",
     "text": [
      "Max temperature in City A:32C\n",
      "Day with high temperature in Day 5\n",
      "Generally Warmer is City A:203\n"
     ]
    }
   ],
   "source": [
    "temps=np.array([[30,32,31,29,28,27,26],\n",
    "               [22,21,23,24,25,26,24],\n",
    "               [15,17,16,18,19,20,21]])\n",
    "max_city=temps.max()\n",
    "print(f\"Max temperature in City A:{max_city}C\")\n",
    "max_day=temps.sum(axis=0)\n",
    "day=max_day.argmax()\n",
    "print(f\"Day with high temperature in Day {day}\")\n",
    "city=temps.sum(axis=1)\n",
    "at_city=city.max()\n",
    "print(f\"Generally Warmer is City A:{at_city}\")"
   ]
  },
  {
   "cell_type": "code",
   "execution_count": null,
   "id": "c9a930ad-d92a-44c7-be89-43ac2e885af8",
   "metadata": {},
   "outputs": [],
   "source": []
  }
 ],
 "metadata": {
  "kernelspec": {
   "display_name": "Python 3 (ipykernel)",
   "language": "python",
   "name": "python3"
  },
  "language_info": {
   "codemirror_mode": {
    "name": "ipython",
    "version": 3
   },
   "file_extension": ".py",
   "mimetype": "text/x-python",
   "name": "python",
   "nbconvert_exporter": "python",
   "pygments_lexer": "ipython3",
   "version": "3.13.3"
  }
 },
 "nbformat": 4,
 "nbformat_minor": 5
}
